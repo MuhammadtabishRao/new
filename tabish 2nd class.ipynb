{
 "cells": [
  {
   "cell_type": "code",
   "execution_count": 2,
   "metadata": {},
   "outputs": [],
   "source": [
    "class Restaurant():\n",
    "    def __init__(self, restaurant_name, cuisine_type):\n",
    "        self.restaurant_name = restaurant_name\n",
    "        self.cuisine_type = cuisine_type\n",
    "        self.number_served = 0\n",
    "        self.new_number = 5 \n",
    "    def describe_restaurant(self):\n",
    "        print(\"THE RESTAURANT NAME IS \"+self.restaurant_name+\", AND ITS CUISINE TYPEIS \"+ self.cuisine_type)\n",
    "    def open_restaurant(self):\n",
    "        print(\"Restaurant is Open\") \n",
    "    def get_number_served(self):\n",
    "        print(self.new_number)\n",
    "    def set_number_served(self,served):\n",
    "        self.number_served =+served\n",
    "        print(self.number_served)\n",
    "        \n",
    "    "
   ]
  },
  {
   "cell_type": "code",
   "execution_count": 42,
   "metadata": {},
   "outputs": [],
   "source": [
    "rest1 = Restaurant(\"dinner in the sky\" , \"The amercian chinese cuisine\")"
   ]
  },
  {
   "cell_type": "code",
   "execution_count": 45,
   "metadata": {},
   "outputs": [
    {
     "name": "stdout",
     "output_type": "stream",
     "text": [
      "5\n"
     ]
    }
   ],
   "source": [
    "rest1.get_number_served()"
   ]
  },
  {
   "cell_type": "code",
   "execution_count": 46,
   "metadata": {},
   "outputs": [
    {
     "name": "stdout",
     "output_type": "stream",
     "text": [
      "10\n"
     ]
    }
   ],
   "source": [
    "rest1.set_number_served(10)"
   ]
  },
  {
   "cell_type": "code",
   "execution_count": 25,
   "metadata": {},
   "outputs": [
    {
     "name": "stdout",
     "output_type": "stream",
     "text": [
      "THE RESTAURANT NAME IS dinner in the sky, AND ITS CUISINE TYPEIS The amercian chinese cuisine\n"
     ]
    }
   ],
   "source": [
    "rest1.describe_restaurant()"
   ]
  },
  {
   "cell_type": "code",
   "execution_count": 13,
   "metadata": {},
   "outputs": [],
   "source": [
    "rest2 = Restaurant(\"ithaa\" , \"French cuisine baker\")"
   ]
  },
  {
   "cell_type": "code",
   "execution_count": 14,
   "metadata": {},
   "outputs": [],
   "source": [
    "rest3 = Restaurant(\"Parallax Restaurant\" , \"golden dragon chinese & thai cuisine\")"
   ]
  },
  {
   "cell_type": "code",
   "execution_count": 20,
   "metadata": {},
   "outputs": [],
   "source": [
    "class user():\n",
    "    def __init__(self,  first_name,  last_name, qualification):\n",
    "        self.first_name = first_name\n",
    "        self.last_name = last_name\n",
    "        self.qualification = qualification\n",
    "        self.login_attempts = int(0)\n",
    "    def describe_user(self):\n",
    "        print(f\"I am {self.first_name} {self.last_name} \\n My qualification is {self.qualification}\")\n",
    "    def greet_user(self):\n",
    "        print(\"GOOD MORNING \" + self.first_name+\" \"+self.last_name)\n",
    "    def increment_login_attempts(self):\n",
    "        self.login_attempts +=1\n",
    "    def reset_login_attempts(self):\n",
    "        self.login_attempts = 0"
   ]
  },
  {
   "cell_type": "code",
   "execution_count": 2,
   "metadata": {},
   "outputs": [],
   "source": [
    "fir1=user(\"TABISH\", \"Rao\", \"BS Computer Science\")"
   ]
  },
  {
   "cell_type": "code",
   "execution_count": 21,
   "metadata": {},
   "outputs": [
    {
     "name": "stdout",
     "output_type": "stream",
     "text": [
      "I am TABISH Rao \n",
      " My qualification is BS Computer Science\n"
     ]
    }
   ],
   "source": [
    "fir1.describe_user()"
   ]
  },
  {
   "cell_type": "code",
   "execution_count": 22,
   "metadata": {},
   "outputs": [
    {
     "name": "stdout",
     "output_type": "stream",
     "text": [
      "GOOD MORNING TABISH Rao\n"
     ]
    }
   ],
   "source": [
    "fir1.greet_user()"
   ]
  },
  {
   "cell_type": "code",
   "execution_count": 11,
   "metadata": {},
   "outputs": [
    {
     "ename": "TypeError",
     "evalue": "'int' object is not callable",
     "output_type": "error",
     "traceback": [
      "\u001b[1;31m---------------------------------------------------------------------------\u001b[0m",
      "\u001b[1;31mTypeError\u001b[0m                                 Traceback (most recent call last)",
      "\u001b[1;32m<ipython-input-11-cbfebe97166e>\u001b[0m in \u001b[0;36m<module>\u001b[1;34m\u001b[0m\n\u001b[1;32m----> 1\u001b[1;33m \u001b[0mfir1\u001b[0m\u001b[1;33m.\u001b[0m\u001b[0mlogin_attempts\u001b[0m\u001b[1;33m(\u001b[0m\u001b[1;33m)\u001b[0m\u001b[1;33m\u001b[0m\u001b[1;33m\u001b[0m\u001b[0m\n\u001b[0m",
      "\u001b[1;31mTypeError\u001b[0m: 'int' object is not callable"
     ]
    }
   ],
   "source": [
    "fir1.login_attempts()"
   ]
  },
  {
   "cell_type": "code",
   "execution_count": 32,
   "metadata": {},
   "outputs": [],
   "source": [
    "class admin(user):\n",
    "        def __init__(self,  first_name,  last_name, qualification):\n",
    "            super().__init__(self,  first_name,  last_name, qualification)\n",
    "            self.privileges = [\"can add post\", \"can delete post\", \"can ban user\"]\n",
    "        def show_privileges(self):\n",
    "            print(\"admin Has These privileges\")\n",
    "            for prev in self.privileges:\n",
    "                print(\"-\" + title.prev)\n",
    "    "
   ]
  },
  {
   "cell_type": "code",
   "execution_count": 28,
   "metadata": {},
   "outputs": [
    {
     "ename": "TypeError",
     "evalue": "__init__() takes 4 positional arguments but 5 were given",
     "output_type": "error",
     "traceback": [
      "\u001b[1;31m---------------------------------------------------------------------------\u001b[0m",
      "\u001b[1;31mTypeError\u001b[0m                                 Traceback (most recent call last)",
      "\u001b[1;32m<ipython-input-28-baaa4ed294e5>\u001b[0m in \u001b[0;36m<module>\u001b[1;34m\u001b[0m\n\u001b[1;32m----> 1\u001b[1;33m \u001b[0madmin1\u001b[0m \u001b[1;33m=\u001b[0m \u001b[0madmin\u001b[0m\u001b[1;33m(\u001b[0m\u001b[1;34m\"TABISH\"\u001b[0m\u001b[1;33m,\u001b[0m \u001b[1;34m\"Rao\"\u001b[0m\u001b[1;33m,\u001b[0m \u001b[1;34m\"BS Computer Science\"\u001b[0m\u001b[1;33m)\u001b[0m\u001b[1;33m\u001b[0m\u001b[1;33m\u001b[0m\u001b[0m\n\u001b[0m",
      "\u001b[1;32m<ipython-input-27-9585e2712ac8>\u001b[0m in \u001b[0;36m__init__\u001b[1;34m(self, first_name, last_name, qualification)\u001b[0m\n\u001b[0;32m      1\u001b[0m \u001b[1;32mclass\u001b[0m \u001b[0madmin\u001b[0m\u001b[1;33m(\u001b[0m\u001b[0muser\u001b[0m\u001b[1;33m)\u001b[0m\u001b[1;33m:\u001b[0m\u001b[1;33m\u001b[0m\u001b[1;33m\u001b[0m\u001b[0m\n\u001b[0;32m      2\u001b[0m         \u001b[1;32mdef\u001b[0m \u001b[0m__init__\u001b[0m\u001b[1;33m(\u001b[0m\u001b[0mself\u001b[0m\u001b[1;33m,\u001b[0m  \u001b[0mfirst_name\u001b[0m\u001b[1;33m,\u001b[0m  \u001b[0mlast_name\u001b[0m\u001b[1;33m,\u001b[0m \u001b[0mqualification\u001b[0m\u001b[1;33m)\u001b[0m\u001b[1;33m:\u001b[0m\u001b[1;33m\u001b[0m\u001b[1;33m\u001b[0m\u001b[0m\n\u001b[1;32m----> 3\u001b[1;33m             \u001b[0msuper\u001b[0m\u001b[1;33m(\u001b[0m\u001b[1;33m)\u001b[0m\u001b[1;33m.\u001b[0m\u001b[0m__init__\u001b[0m\u001b[1;33m(\u001b[0m\u001b[0mself\u001b[0m\u001b[1;33m,\u001b[0m  \u001b[0mfirst_name\u001b[0m\u001b[1;33m,\u001b[0m  \u001b[0mlast_name\u001b[0m\u001b[1;33m,\u001b[0m \u001b[0mqualification\u001b[0m\u001b[1;33m)\u001b[0m\u001b[1;33m\u001b[0m\u001b[1;33m\u001b[0m\u001b[0m\n\u001b[0m\u001b[0;32m      4\u001b[0m             \u001b[0mself\u001b[0m\u001b[1;33m.\u001b[0m\u001b[0mprivileges\u001b[0m \u001b[1;33m=\u001b[0m \u001b[1;33m[\u001b[0m\u001b[1;34m\"can add post\"\u001b[0m\u001b[1;33m,\u001b[0m \u001b[1;34m\"can delete post\"\u001b[0m\u001b[1;33m,\u001b[0m \u001b[1;34m\"can ban user\"\u001b[0m\u001b[1;33m]\u001b[0m\u001b[1;33m\u001b[0m\u001b[1;33m\u001b[0m\u001b[0m\n\u001b[0;32m      5\u001b[0m         \u001b[1;32mdef\u001b[0m \u001b[0mshow_privileges\u001b[0m\u001b[1;33m(\u001b[0m\u001b[0mself\u001b[0m\u001b[1;33m)\u001b[0m\u001b[1;33m:\u001b[0m\u001b[1;33m\u001b[0m\u001b[1;33m\u001b[0m\u001b[0m\n",
      "\u001b[1;31mTypeError\u001b[0m: __init__() takes 4 positional arguments but 5 were given"
     ]
    }
   ],
   "source": [
    "admin1 = admin(\"TABISH\", \"Rao\", \"BS Computer Science\")"
   ]
  },
  {
   "cell_type": "code",
   "execution_count": 30,
   "metadata": {},
   "outputs": [
    {
     "ename": "TypeError",
     "evalue": "__init__() takes 4 positional arguments but 5 were given",
     "output_type": "error",
     "traceback": [
      "\u001b[1;31m---------------------------------------------------------------------------\u001b[0m",
      "\u001b[1;31mTypeError\u001b[0m                                 Traceback (most recent call last)",
      "\u001b[1;32m<ipython-input-30-baaa4ed294e5>\u001b[0m in \u001b[0;36m<module>\u001b[1;34m\u001b[0m\n\u001b[1;32m----> 1\u001b[1;33m \u001b[0madmin1\u001b[0m \u001b[1;33m=\u001b[0m \u001b[0madmin\u001b[0m\u001b[1;33m(\u001b[0m\u001b[1;34m\"TABISH\"\u001b[0m\u001b[1;33m,\u001b[0m \u001b[1;34m\"Rao\"\u001b[0m\u001b[1;33m,\u001b[0m \u001b[1;34m\"BS Computer Science\"\u001b[0m\u001b[1;33m)\u001b[0m\u001b[1;33m\u001b[0m\u001b[1;33m\u001b[0m\u001b[0m\n\u001b[0m",
      "\u001b[1;32m<ipython-input-29-9585e2712ac8>\u001b[0m in \u001b[0;36m__init__\u001b[1;34m(self, first_name, last_name, qualification)\u001b[0m\n\u001b[0;32m      1\u001b[0m \u001b[1;32mclass\u001b[0m \u001b[0madmin\u001b[0m\u001b[1;33m(\u001b[0m\u001b[0muser\u001b[0m\u001b[1;33m)\u001b[0m\u001b[1;33m:\u001b[0m\u001b[1;33m\u001b[0m\u001b[1;33m\u001b[0m\u001b[0m\n\u001b[0;32m      2\u001b[0m         \u001b[1;32mdef\u001b[0m \u001b[0m__init__\u001b[0m\u001b[1;33m(\u001b[0m\u001b[0mself\u001b[0m\u001b[1;33m,\u001b[0m  \u001b[0mfirst_name\u001b[0m\u001b[1;33m,\u001b[0m  \u001b[0mlast_name\u001b[0m\u001b[1;33m,\u001b[0m \u001b[0mqualification\u001b[0m\u001b[1;33m)\u001b[0m\u001b[1;33m:\u001b[0m\u001b[1;33m\u001b[0m\u001b[1;33m\u001b[0m\u001b[0m\n\u001b[1;32m----> 3\u001b[1;33m             \u001b[0msuper\u001b[0m\u001b[1;33m(\u001b[0m\u001b[1;33m)\u001b[0m\u001b[1;33m.\u001b[0m\u001b[0m__init__\u001b[0m\u001b[1;33m(\u001b[0m\u001b[0mself\u001b[0m\u001b[1;33m,\u001b[0m  \u001b[0mfirst_name\u001b[0m\u001b[1;33m,\u001b[0m  \u001b[0mlast_name\u001b[0m\u001b[1;33m,\u001b[0m \u001b[0mqualification\u001b[0m\u001b[1;33m)\u001b[0m\u001b[1;33m\u001b[0m\u001b[1;33m\u001b[0m\u001b[0m\n\u001b[0m\u001b[0;32m      4\u001b[0m             \u001b[0mself\u001b[0m\u001b[1;33m.\u001b[0m\u001b[0mprivileges\u001b[0m \u001b[1;33m=\u001b[0m \u001b[1;33m[\u001b[0m\u001b[1;34m\"can add post\"\u001b[0m\u001b[1;33m,\u001b[0m \u001b[1;34m\"can delete post\"\u001b[0m\u001b[1;33m,\u001b[0m \u001b[1;34m\"can ban user\"\u001b[0m\u001b[1;33m]\u001b[0m\u001b[1;33m\u001b[0m\u001b[1;33m\u001b[0m\u001b[0m\n\u001b[0;32m      5\u001b[0m         \u001b[1;32mdef\u001b[0m \u001b[0mshow_privileges\u001b[0m\u001b[1;33m(\u001b[0m\u001b[0mself\u001b[0m\u001b[1;33m)\u001b[0m\u001b[1;33m:\u001b[0m\u001b[1;33m\u001b[0m\u001b[1;33m\u001b[0m\u001b[0m\n",
      "\u001b[1;31mTypeError\u001b[0m: __init__() takes 4 positional arguments but 5 were given"
     ]
    }
   ],
   "source": [
    "admin1 = admin(\"TABISH\", \"Rao\", \"BS Computer Science\")"
   ]
  },
  {
   "cell_type": "code",
   "execution_count": 44,
   "metadata": {},
   "outputs": [],
   "source": [
    "class  IceCream(Restaurant):\n",
    "        def __init__(self, restaurant_name, cuisine_type=\"icecream\"):\n",
    "            super().__init__(restaurant_name)\n",
    "            self.flavor = [\"Cake batter\" , \"Cardamom black pepper\" , \"Cayenne chocolate\"]\n",
    "        def showfalvor(self):\n",
    "            print(\"avaible this flavor\")\n",
    "            for flavor in self.flavor:\n",
    "                print(\"-\" + flavor())"
   ]
  },
  {
   "cell_type": "code",
   "execution_count": 45,
   "metadata": {},
   "outputs": [
    {
     "ename": "TypeError",
     "evalue": "__init__() missing 1 required positional argument: 'cuisine_type'",
     "output_type": "error",
     "traceback": [
      "\u001b[1;31m---------------------------------------------------------------------------\u001b[0m",
      "\u001b[1;31mTypeError\u001b[0m                                 Traceback (most recent call last)",
      "\u001b[1;32m<ipython-input-45-699cb3b929e8>\u001b[0m in \u001b[0;36m<module>\u001b[1;34m\u001b[0m\n\u001b[1;32m----> 1\u001b[1;33m \u001b[0mice1\u001b[0m \u001b[1;33m=\u001b[0m \u001b[0mIceCream\u001b[0m\u001b[1;33m(\u001b[0m\u001b[1;34m\"ithaa\"\u001b[0m\u001b[1;33m)\u001b[0m\u001b[1;33m\u001b[0m\u001b[1;33m\u001b[0m\u001b[0m\n\u001b[0m",
      "\u001b[1;32m<ipython-input-44-4f2b15f00fc7>\u001b[0m in \u001b[0;36m__init__\u001b[1;34m(self, restaurant_name, cuisine_type)\u001b[0m\n\u001b[0;32m      1\u001b[0m \u001b[1;32mclass\u001b[0m  \u001b[0mIceCream\u001b[0m\u001b[1;33m(\u001b[0m\u001b[0mRestaurant\u001b[0m\u001b[1;33m)\u001b[0m\u001b[1;33m:\u001b[0m\u001b[1;33m\u001b[0m\u001b[1;33m\u001b[0m\u001b[0m\n\u001b[0;32m      2\u001b[0m         \u001b[1;32mdef\u001b[0m \u001b[0m__init__\u001b[0m\u001b[1;33m(\u001b[0m\u001b[0mself\u001b[0m\u001b[1;33m,\u001b[0m \u001b[0mrestaurant_name\u001b[0m\u001b[1;33m,\u001b[0m \u001b[0mcuisine_type\u001b[0m\u001b[1;33m=\u001b[0m\u001b[1;34m\"icecream\"\u001b[0m\u001b[1;33m)\u001b[0m\u001b[1;33m:\u001b[0m\u001b[1;33m\u001b[0m\u001b[1;33m\u001b[0m\u001b[0m\n\u001b[1;32m----> 3\u001b[1;33m             \u001b[0msuper\u001b[0m\u001b[1;33m(\u001b[0m\u001b[1;33m)\u001b[0m\u001b[1;33m.\u001b[0m\u001b[0m__init__\u001b[0m\u001b[1;33m(\u001b[0m\u001b[0mrestaurant_name\u001b[0m\u001b[1;33m)\u001b[0m\u001b[1;33m\u001b[0m\u001b[1;33m\u001b[0m\u001b[0m\n\u001b[0m\u001b[0;32m      4\u001b[0m             \u001b[0mself\u001b[0m\u001b[1;33m.\u001b[0m\u001b[0mflavor\u001b[0m \u001b[1;33m=\u001b[0m \u001b[1;33m[\u001b[0m\u001b[1;34m\"Cake batter\"\u001b[0m \u001b[1;33m,\u001b[0m \u001b[1;34m\"Cardamom black pepper\"\u001b[0m \u001b[1;33m,\u001b[0m \u001b[1;34m\"Cayenne chocolate\"\u001b[0m\u001b[1;33m]\u001b[0m\u001b[1;33m\u001b[0m\u001b[1;33m\u001b[0m\u001b[0m\n\u001b[0;32m      5\u001b[0m         \u001b[1;32mdef\u001b[0m \u001b[0mshowfalvor\u001b[0m\u001b[1;33m(\u001b[0m\u001b[0mself\u001b[0m\u001b[1;33m)\u001b[0m\u001b[1;33m:\u001b[0m\u001b[1;33m\u001b[0m\u001b[1;33m\u001b[0m\u001b[0m\n",
      "\u001b[1;31mTypeError\u001b[0m: __init__() missing 1 required positional argument: 'cuisine_type'"
     ]
    }
   ],
   "source": [
    "ice1 = IceCream(\"ithaa\")"
   ]
  },
  {
   "cell_type": "code",
   "execution_count": 43,
   "metadata": {},
   "outputs": [
    {
     "name": "stdout",
     "output_type": "stream",
     "text": [
      "avaible this flavor\n"
     ]
    },
    {
     "ename": "TypeError",
     "evalue": "'str' object is not callable",
     "output_type": "error",
     "traceback": [
      "\u001b[1;31m---------------------------------------------------------------------------\u001b[0m",
      "\u001b[1;31mTypeError\u001b[0m                                 Traceback (most recent call last)",
      "\u001b[1;32m<ipython-input-43-3abcdb120337>\u001b[0m in \u001b[0;36m<module>\u001b[1;34m\u001b[0m\n\u001b[1;32m----> 1\u001b[1;33m \u001b[0mice1\u001b[0m\u001b[1;33m.\u001b[0m\u001b[0mshowfalvor\u001b[0m\u001b[1;33m(\u001b[0m\u001b[1;33m)\u001b[0m\u001b[1;33m\u001b[0m\u001b[1;33m\u001b[0m\u001b[0m\n\u001b[0m",
      "\u001b[1;32m<ipython-input-41-812a579bee0b>\u001b[0m in \u001b[0;36mshowfalvor\u001b[1;34m(self)\u001b[0m\n\u001b[0;32m      6\u001b[0m             \u001b[0mprint\u001b[0m\u001b[1;33m(\u001b[0m\u001b[1;34m\"avaible this flavor\"\u001b[0m\u001b[1;33m)\u001b[0m\u001b[1;33m\u001b[0m\u001b[1;33m\u001b[0m\u001b[0m\n\u001b[0;32m      7\u001b[0m             \u001b[1;32mfor\u001b[0m \u001b[0mflavor\u001b[0m \u001b[1;32min\u001b[0m \u001b[0mself\u001b[0m\u001b[1;33m.\u001b[0m\u001b[0mflavor\u001b[0m\u001b[1;33m:\u001b[0m\u001b[1;33m\u001b[0m\u001b[1;33m\u001b[0m\u001b[0m\n\u001b[1;32m----> 8\u001b[1;33m                 \u001b[0mprint\u001b[0m\u001b[1;33m(\u001b[0m\u001b[1;34m\"-\"\u001b[0m \u001b[1;33m+\u001b[0m \u001b[0mflavor\u001b[0m\u001b[1;33m(\u001b[0m\u001b[1;33m)\u001b[0m\u001b[1;33m)\u001b[0m\u001b[1;33m\u001b[0m\u001b[1;33m\u001b[0m\u001b[0m\n\u001b[0m",
      "\u001b[1;31mTypeError\u001b[0m: 'str' object is not callable"
     ]
    }
   ],
   "source": [
    "ice1.showfalvor()"
   ]
  },
  {
   "cell_type": "code",
   "execution_count": 62,
   "metadata": {},
   "outputs": [],
   "source": [
    "class User():\n",
    "    def __init__(self,first_name, last_name, gender, email, password):\n",
    "        self.first_name = first_name\n",
    "        self.last_name =last_name\n",
    "        self.gender =gender\n",
    "        self.email =email\n",
    "        self.password =password\n",
    "        self.login_attempts = 0\n",
    "    def describe_user(self):\n",
    "        print(f\"User name is: {self.first_name} {self.last_name}\")\n",
    "        print(f\"User is {self.gender} by gender\")\n",
    "        print(f\"User email address is {self.email}\")\n",
    "    def greet_user(self):\n",
    "        if self.gender.lower()==\"female\":\n",
    "            print(f\"Welcome Miss {self.first_name} {self.last_name}\")\n",
    "        else:\n",
    "            print(f\"Welcome Mr. {self.first_name} {self.last_name}\")\n",
    "    def increment_login_attempts(self):\n",
    "        self.login_attempts +=1\n",
    "    def reset_login_attempts(self):\n",
    "        self.login_attempts = 0"
   ]
  },
  {
   "cell_type": "code",
   "execution_count": 68,
   "metadata": {},
   "outputs": [],
   "source": [
    "class admin(user):\n",
    "        def __init__(self,  first_name,  last_name, qualification , Privilege):\n",
    "            super().__init__(first_name,  last_name, qualification )\n",
    "            self.Privilege = Privilege(Privilege)\n",
    "\n",
    "        \n",
    "    "
   ]
  },
  {
   "cell_type": "code",
   "execution_count": 69,
   "metadata": {},
   "outputs": [
    {
     "ename": "TypeError",
     "evalue": "__init__() missing 1 required positional argument: 'Privilege'",
     "output_type": "error",
     "traceback": [
      "\u001b[1;31m---------------------------------------------------------------------------\u001b[0m",
      "\u001b[1;31mTypeError\u001b[0m                                 Traceback (most recent call last)",
      "\u001b[1;32m<ipython-input-69-baaa4ed294e5>\u001b[0m in \u001b[0;36m<module>\u001b[1;34m\u001b[0m\n\u001b[1;32m----> 1\u001b[1;33m \u001b[0madmin1\u001b[0m \u001b[1;33m=\u001b[0m \u001b[0madmin\u001b[0m\u001b[1;33m(\u001b[0m\u001b[1;34m\"TABISH\"\u001b[0m\u001b[1;33m,\u001b[0m \u001b[1;34m\"Rao\"\u001b[0m\u001b[1;33m,\u001b[0m \u001b[1;34m\"BS Computer Science\"\u001b[0m\u001b[1;33m)\u001b[0m\u001b[1;33m\u001b[0m\u001b[1;33m\u001b[0m\u001b[0m\n\u001b[0m",
      "\u001b[1;31mTypeError\u001b[0m: __init__() missing 1 required positional argument: 'Privilege'"
     ]
    }
   ],
   "source": [
    "admin1 = admin(\"TABISH\", \"Rao\", \"BS Computer Science\")"
   ]
  },
  {
   "cell_type": "code",
   "execution_count": 49,
   "metadata": {},
   "outputs": [
    {
     "ename": "AttributeError",
     "evalue": "'admin' object has no attribute 'show_privileges'",
     "output_type": "error",
     "traceback": [
      "\u001b[1;31m---------------------------------------------------------------------------\u001b[0m",
      "\u001b[1;31mAttributeError\u001b[0m                            Traceback (most recent call last)",
      "\u001b[1;32m<ipython-input-49-937a9e5e2f0b>\u001b[0m in \u001b[0;36m<module>\u001b[1;34m\u001b[0m\n\u001b[1;32m----> 1\u001b[1;33m \u001b[0madmin1\u001b[0m\u001b[1;33m.\u001b[0m\u001b[0mshow_privileges\u001b[0m\u001b[1;33m(\u001b[0m\u001b[1;33m)\u001b[0m\u001b[1;33m\u001b[0m\u001b[1;33m\u001b[0m\u001b[0m\n\u001b[0m",
      "\u001b[1;31mAttributeError\u001b[0m: 'admin' object has no attribute 'show_privileges'"
     ]
    }
   ],
   "source": [
    "admin1.show_privileges()"
   ]
  },
  {
   "cell_type": "code",
   "execution_count": 60,
   "metadata": {},
   "outputs": [
    {
     "ename": "AttributeError",
     "evalue": "'admin' object has no attribute 'privileges'",
     "output_type": "error",
     "traceback": [
      "\u001b[1;31m---------------------------------------------------------------------------\u001b[0m",
      "\u001b[1;31mAttributeError\u001b[0m                            Traceback (most recent call last)",
      "\u001b[1;32m<ipython-input-60-40c2d803a0fa>\u001b[0m in \u001b[0;36m<module>\u001b[1;34m\u001b[0m\n\u001b[0;32m     15\u001b[0m     \u001b[1;34m'can suspend accounts'\u001b[0m\u001b[1;33m,\u001b[0m\u001b[1;33m\u001b[0m\u001b[1;33m\u001b[0m\u001b[0m\n\u001b[0;32m     16\u001b[0m     ]\n\u001b[1;32m---> 17\u001b[1;33m \u001b[0madmin1\u001b[0m\u001b[1;33m.\u001b[0m\u001b[0mprivileges\u001b[0m\u001b[1;33m.\u001b[0m\u001b[0mprivilege\u001b[0m \u001b[1;33m=\u001b[0m \u001b[0madmin1_privilege\u001b[0m\u001b[1;33m\u001b[0m\u001b[1;33m\u001b[0m\u001b[0m\n\u001b[0m\u001b[0;32m     18\u001b[0m \u001b[0madmin1\u001b[0m\u001b[1;33m.\u001b[0m\u001b[0mprivileges\u001b[0m\u001b[1;33m.\u001b[0m\u001b[0mshow_privileges\u001b[0m\u001b[1;33m(\u001b[0m\u001b[1;33m)\u001b[0m\u001b[1;33m\u001b[0m\u001b[1;33m\u001b[0m\u001b[0m\n",
      "\u001b[1;31mAttributeError\u001b[0m: 'admin' object has no attribute 'privileges'"
     ]
    }
   ],
   "source": [
    "class  Privileges():\n",
    "    def __init__(self , Privilege):\n",
    "        Privilege = ['can reset passwords','can moderate discussions','can suspend accounts']\n",
    "       \n",
    "    def show_privileges(self):\n",
    "        print(\"admin Has These privileges\")\n",
    "        for prev in self.privilege:\n",
    "            print(\"-\" + prev)\n",
    "            \n",
    "            "
   ]
  },
  {
   "cell_type": "code",
   "execution_count": 59,
   "metadata": {},
   "outputs": [
    {
     "ename": "TypeError",
     "evalue": "show_privileges() missing 1 required positional argument: 'self'",
     "output_type": "error",
     "traceback": [
      "\u001b[1;31m---------------------------------------------------------------------------\u001b[0m",
      "\u001b[1;31mTypeError\u001b[0m                                 Traceback (most recent call last)",
      "\u001b[1;32m<ipython-input-59-2e3159644c2e>\u001b[0m in \u001b[0;36m<module>\u001b[1;34m\u001b[0m\n\u001b[1;32m----> 1\u001b[1;33m admin1.Privileges.show_privileges(\n\u001b[0m\u001b[0;32m      2\u001b[0m )\n",
      "\u001b[1;31mTypeError\u001b[0m: show_privileges() missing 1 required positional argument: 'self'"
     ]
    }
   ],
   "source": [
    "admin1.Privileges.show_privileges(\n",
    ")"
   ]
  },
  {
   "cell_type": "markdown",
   "metadata": {},
   "source": [
    "# three type of function : 1 static , 2 class , 3instance "
   ]
  },
  {
   "cell_type": "code",
   "execution_count": null,
   "metadata": {},
   "outputs": [],
   "source": []
  }
 ],
 "metadata": {
  "kernelspec": {
   "display_name": "Python 3",
   "language": "python",
   "name": "python3"
  },
  "language_info": {
   "codemirror_mode": {
    "name": "ipython",
    "version": 3
   },
   "file_extension": ".py",
   "mimetype": "text/x-python",
   "name": "python",
   "nbconvert_exporter": "python",
   "pygments_lexer": "ipython3",
   "version": "3.7.6"
  }
 },
 "nbformat": 4,
 "nbformat_minor": 4
}
