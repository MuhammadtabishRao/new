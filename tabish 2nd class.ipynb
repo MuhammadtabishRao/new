{
 "cells": [
  {
   "cell_type": "code",
   "execution_count": 41,
   "metadata": {},
   "outputs": [],
   "source": [
    "class Restaurant():\n",
    "    def __init__(self, restaurant_name, cuisine_type):\n",
    "        self.restaurant_name = restaurant_name\n",
    "        self.cuisine_type = cuisine_type\n",
    "        self.number_served = 0\n",
    "        self.new_number = 5 \n",
    "    def describe_restaurant(self):\n",
    "        print(\"THE RESTAURANT NAME IS \"+self.restaurant_name+\", AND ITS CUISINE TYPEIS \"+ self.cuisine_type)\n",
    "    def open_restaurant(self):\n",
    "        print(\"Restaurant is Open\") \n",
    "    def get_number_served(self):\n",
    "        print(self.new_number)\n",
    "    def set_number_served(self,served):\n",
    "        self.number_served =+served\n",
    "        print(self.number_served)\n",
    "        \n",
    "    "
   ]
  },
  {
   "cell_type": "code",
   "execution_count": 42,
   "metadata": {},
   "outputs": [],
   "source": [
    "rest1 = Restaurant(\"dinner in the sky\" , \"The amercian chinese cuisine\")"
   ]
  },
  {
   "cell_type": "code",
   "execution_count": 45,
   "metadata": {},
   "outputs": [
    {
     "name": "stdout",
     "output_type": "stream",
     "text": [
      "5\n"
     ]
    }
   ],
   "source": [
    "rest1.get_number_served()"
   ]
  },
  {
   "cell_type": "code",
   "execution_count": null,
   "metadata": {},
   "outputs": [],
   "source": [
    "rest1.i"
   ]
  },
  {
   "cell_type": "code",
   "execution_count": 46,
   "metadata": {},
   "outputs": [
    {
     "name": "stdout",
     "output_type": "stream",
     "text": [
      "10\n"
     ]
    }
   ],
   "source": [
    "rest1.set_number_served(10)"
   ]
  },
  {
   "cell_type": "code",
   "execution_count": 25,
   "metadata": {},
   "outputs": [
    {
     "name": "stdout",
     "output_type": "stream",
     "text": [
      "THE RESTAURANT NAME IS dinner in the sky, AND ITS CUISINE TYPEIS The amercian chinese cuisine\n"
     ]
    }
   ],
   "source": [
    "rest1.describe_restaurant()"
   ]
  },
  {
   "cell_type": "code",
   "execution_count": 13,
   "metadata": {},
   "outputs": [],
   "source": [
    "rest2 = Restaurant(\"ithaa\" , \"French cuisine baker\")"
   ]
  },
  {
   "cell_type": "code",
   "execution_count": 14,
   "metadata": {},
   "outputs": [],
   "source": [
    "rest3 = Restaurant(\"Parallax Restaurant\" , \"golden dragon chinese & thai cuisine\")"
   ]
  },
  {
   "cell_type": "code",
   "execution_count": 47,
   "metadata": {},
   "outputs": [],
   "source": [
    "class user():\n",
    "    def __init__(self,  first_name,  last_name, qualification):\n",
    "        self.first_name = first_name\n",
    "        self.last_name = last_name\n",
    "        self.qualification = qualification\n",
    "        self.login_attempts = 0\n",
    "    def describe_user(self):\n",
    "        print(f\"I am {self.first_name} {self.last_name} \\n My qualification is {self.qualification}\")\n",
    "    def greet_user(self):\n",
    "        print(\"GOOD MORNING \" + self.first_name+\" \"+self.last_name)\n",
    "    def  increment_login_attempts(self):\n",
    "        print(\"\")"
   ]
  },
  {
   "cell_type": "code",
   "execution_count": 20,
   "metadata": {},
   "outputs": [],
   "source": [
    "fir1=user(\"TABISH\", \"Rao\", \"BS Computer Science\")"
   ]
  },
  {
   "cell_type": "code",
   "execution_count": 21,
   "metadata": {},
   "outputs": [
    {
     "name": "stdout",
     "output_type": "stream",
     "text": [
      "I am TABISH Rao \n",
      " My qualification is BS Computer Science\n"
     ]
    }
   ],
   "source": [
    "fir1.describe_user()"
   ]
  },
  {
   "cell_type": "code",
   "execution_count": 22,
   "metadata": {},
   "outputs": [
    {
     "name": "stdout",
     "output_type": "stream",
     "text": [
      "GOOD MORNING TABISH Rao\n"
     ]
    }
   ],
   "source": [
    "fir1.greet_user()"
   ]
  },
  {
   "cell_type": "code",
   "execution_count": null,
   "metadata": {},
   "outputs": [],
   "source": []
  },
  {
   "cell_type": "code",
   "execution_count": null,
   "metadata": {},
   "outputs": [],
   "source": []
  }
 ],
 "metadata": {
  "kernelspec": {
   "display_name": "Python 3",
   "language": "python",
   "name": "python3"
  },
  "language_info": {
   "codemirror_mode": {
    "name": "ipython",
    "version": 3
   },
   "file_extension": ".py",
   "mimetype": "text/x-python",
   "name": "python",
   "nbconvert_exporter": "python",
   "pygments_lexer": "ipython3",
   "version": "3.7.6"
  }
 },
 "nbformat": 4,
 "nbformat_minor": 4
}
