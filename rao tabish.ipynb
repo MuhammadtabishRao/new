{
 "cells": [
  {
   "cell_type": "code",
   "execution_count": 4,
   "metadata": {},
   "outputs": [],
   "source": [
    "alist=[{\"items\":[1,2,3,4],\n",
    "        \"price\":[11,22,33,44]},\n",
    "       {\"students\":[\"A\",\"B\",\"C\",\"D\"],\n",
    "       \"rollnum\":[123,456,127,567]}]"
   ]
  },
  {
   "cell_type": "code",
   "execution_count": 6,
   "metadata": {},
   "outputs": [
    {
     "data": {
      "text/plain": [
       "'C'"
      ]
     },
     "execution_count": 6,
     "metadata": {},
     "output_type": "execute_result"
    }
   ],
   "source": [
    "alist[1][\"students\"][2]"
   ]
  },
  {
   "cell_type": "code",
   "execution_count": 7,
   "metadata": {},
   "outputs": [
    {
     "name": "stdout",
     "output_type": "stream",
     "text": [
      "123\n",
      "456\n",
      "127\n",
      "567\n"
     ]
    }
   ],
   "source": [
    "for mem in range (len(alist)):\n",
    "    if \"rollnum\" in alist[mem]:\n",
    "        for rn in alist[mem][\"rollnum\"]:\n",
    "            print(rn)"
   ]
  },
  {
   "cell_type": "code",
   "execution_count": 8,
   "metadata": {},
   "outputs": [],
   "source": [
    "aliens=[]"
   ]
  },
  {
   "cell_type": "code",
   "execution_count": 9,
   "metadata": {},
   "outputs": [],
   "source": [
    "for aliens_number in range (30):\n",
    "    new_aliens={\"color\":\"green\",\"points\": 5,\"speed\":\"slow\"}\n",
    "    aliens.append(new_aliens)"
   ]
  },
  {
   "cell_type": "code",
   "execution_count": 10,
   "metadata": {},
   "outputs": [
    {
     "name": "stdout",
     "output_type": "stream",
     "text": [
      "[{'color': 'green', 'points': 5, 'speed': 'slow'}, {'color': 'green', 'points': 5, 'speed': 'slow'}, {'color': 'green', 'points': 5, 'speed': 'slow'}, {'color': 'green', 'points': 5, 'speed': 'slow'}, {'color': 'green', 'points': 5, 'speed': 'slow'}, {'color': 'green', 'points': 5, 'speed': 'slow'}, {'color': 'green', 'points': 5, 'speed': 'slow'}, {'color': 'green', 'points': 5, 'speed': 'slow'}, {'color': 'green', 'points': 5, 'speed': 'slow'}, {'color': 'green', 'points': 5, 'speed': 'slow'}, {'color': 'green', 'points': 5, 'speed': 'slow'}, {'color': 'green', 'points': 5, 'speed': 'slow'}, {'color': 'green', 'points': 5, 'speed': 'slow'}, {'color': 'green', 'points': 5, 'speed': 'slow'}, {'color': 'green', 'points': 5, 'speed': 'slow'}, {'color': 'green', 'points': 5, 'speed': 'slow'}, {'color': 'green', 'points': 5, 'speed': 'slow'}, {'color': 'green', 'points': 5, 'speed': 'slow'}, {'color': 'green', 'points': 5, 'speed': 'slow'}, {'color': 'green', 'points': 5, 'speed': 'slow'}, {'color': 'green', 'points': 5, 'speed': 'slow'}, {'color': 'green', 'points': 5, 'speed': 'slow'}, {'color': 'green', 'points': 5, 'speed': 'slow'}, {'color': 'green', 'points': 5, 'speed': 'slow'}, {'color': 'green', 'points': 5, 'speed': 'slow'}, {'color': 'green', 'points': 5, 'speed': 'slow'}, {'color': 'green', 'points': 5, 'speed': 'slow'}, {'color': 'green', 'points': 5, 'speed': 'slow'}, {'color': 'green', 'points': 5, 'speed': 'slow'}, {'color': 'green', 'points': 5, 'speed': 'slow'}]\n"
     ]
    }
   ],
   "source": [
    "print(aliens)"
   ]
  },
  {
   "cell_type": "code",
   "execution_count": 11,
   "metadata": {},
   "outputs": [
    {
     "name": "stdout",
     "output_type": "stream",
     "text": [
      "{'color': 'green', 'points': 5, 'speed': 'slow'}\n",
      "{'color': 'green', 'points': 5, 'speed': 'slow'}\n",
      "{'color': 'green', 'points': 5, 'speed': 'slow'}\n",
      "{'color': 'green', 'points': 5, 'speed': 'slow'}\n",
      "{'color': 'green', 'points': 5, 'speed': 'slow'}\n",
      "....\n"
     ]
    }
   ],
   "source": [
    "for alien in aliens[:5]:\n",
    "    print(alien)\n",
    "print(\"....\")    "
   ]
  },
  {
   "cell_type": "code",
   "execution_count": 12,
   "metadata": {},
   "outputs": [
    {
     "name": "stdout",
     "output_type": "stream",
     "text": [
      "total number of aliens30\n"
     ]
    }
   ],
   "source": [
    "print(\"total number of aliens \" + str(len(aliens)))"
   ]
  },
  {
   "cell_type": "code",
   "execution_count": 13,
   "metadata": {},
   "outputs": [],
   "source": [
    "for alien in aliens[0:3]:\n",
    "    if alien[\"color\"]==\"green\":\n",
    "        alien[\"color\"]=\"yellow\"\n",
    "        alien[\"speed\"]=\"medium\"\n",
    "        alien[\"points\"]=10"
   ]
  },
  {
   "cell_type": "code",
   "execution_count": 14,
   "metadata": {},
   "outputs": [
    {
     "name": "stdout",
     "output_type": "stream",
     "text": [
      "{'color': 'yellow', 'points': 10, 'speed': 'medium'}\n"
     ]
    }
   ],
   "source": [
    "print(alien)"
   ]
  },
  {
   "cell_type": "code",
   "execution_count": 15,
   "metadata": {},
   "outputs": [
    {
     "name": "stdout",
     "output_type": "stream",
     "text": [
      "{'color': 'yellow', 'points': 10, 'speed': 'medium'}\n",
      "{'color': 'yellow', 'points': 10, 'speed': 'medium'}\n",
      "{'color': 'yellow', 'points': 10, 'speed': 'medium'}\n",
      "{'color': 'green', 'points': 5, 'speed': 'slow'}\n",
      "{'color': 'green', 'points': 5, 'speed': 'slow'}\n"
     ]
    }
   ],
   "source": [
    "for alien in aliens[0:5]:\n",
    "    print(alien)"
   ]
  },
  {
   "cell_type": "code",
   "execution_count": 20,
   "metadata": {},
   "outputs": [
    {
     "ename": "SyntaxError",
     "evalue": "invalid syntax (<ipython-input-20-f9e2346675b6>, line 6)",
     "output_type": "error",
     "traceback": [
      "\u001b[1;36m  File \u001b[1;32m\"<ipython-input-20-f9e2346675b6>\"\u001b[1;36m, line \u001b[1;32m6\u001b[0m\n\u001b[1;33m    else alien[\"color\"]==\"yellow\":\u001b[0m\n\u001b[1;37m             ^\u001b[0m\n\u001b[1;31mSyntaxError\u001b[0m\u001b[1;31m:\u001b[0m invalid syntax\n"
     ]
    }
   ],
   "source": [
    "for alien in aliens[0:3]:\n",
    "    if alien[\"color\"]==\"green\":\n",
    "        alien[\"color\"]=\"yellow\"\n",
    "        alien[\"speed\"]=\"medium\"\n",
    "        alien[\"points\"]=10\n",
    "    else alien[\"color\"]==\"yellow\":\n",
    "    alien[\"color\"]=\"red\"\n",
    "    alien[\"speed\"]=\"fast\"\n",
    "    alien[\"points\"]=15\n",
    "    "
   ]
  },
  {
   "cell_type": "code",
   "execution_count": 22,
   "metadata": {},
   "outputs": [
    {
     "ename": "IndentationError",
     "evalue": "expected an indented block (<ipython-input-22-e1cd1783d3ba>, line 7)",
     "output_type": "error",
     "traceback": [
      "\u001b[1;36m  File \u001b[1;32m\"<ipython-input-22-e1cd1783d3ba>\"\u001b[1;36m, line \u001b[1;32m7\u001b[0m\n\u001b[1;33m    alien[\"color\"]=\"red\"\u001b[0m\n\u001b[1;37m        ^\u001b[0m\n\u001b[1;31mIndentationError\u001b[0m\u001b[1;31m:\u001b[0m expected an indented block\n"
     ]
    }
   ],
   "source": [
    "for alien in aliens[0:3]:\n",
    "    if alien[\"color\"]==\"green\":\n",
    "        alien[\"color\"]=\"yellow\"\n",
    "        alien[\"speed\"]=\"medium\"\n",
    "        alien[\"points\"]=10\n",
    "    elif alien[\"color\"]==\"yellow\":\n",
    "    alien[\"color\"]=\"red\"\n",
    "    alien[\"speed\"]=\"fast\"\n",
    "    alien[\"points\"]=15"
   ]
  },
  {
   "cell_type": "code",
   "execution_count": 24,
   "metadata": {},
   "outputs": [
    {
     "name": "stdout",
     "output_type": "stream",
     "text": [
      "{'color': 'red', 'points': 15, 'speed': 'fast'}\n",
      "{'color': 'red', 'points': 15, 'speed': 'fast'}\n",
      "{'color': 'red', 'points': 15, 'speed': 'fast'}\n",
      "{'color': 'green', 'points': 5, 'speed': 'slow'}\n",
      "{'color': 'green', 'points': 5, 'speed': 'slow'}\n",
      "{'color': 'green', 'points': 5, 'speed': 'slow'}\n",
      "{'color': 'green', 'points': 5, 'speed': 'slow'}\n",
      "{'color': 'green', 'points': 5, 'speed': 'slow'}\n",
      "{'color': 'green', 'points': 5, 'speed': 'slow'}\n",
      "{'color': 'green', 'points': 5, 'speed': 'slow'}\n",
      "{'color': 'green', 'points': 5, 'speed': 'slow'}\n",
      "{'color': 'green', 'points': 5, 'speed': 'slow'}\n",
      "{'color': 'green', 'points': 5, 'speed': 'slow'}\n",
      "{'color': 'green', 'points': 5, 'speed': 'slow'}\n",
      "{'color': 'green', 'points': 5, 'speed': 'slow'}\n",
      "{'color': 'green', 'points': 5, 'speed': 'slow'}\n",
      "{'color': 'green', 'points': 5, 'speed': 'slow'}\n",
      "{'color': 'green', 'points': 5, 'speed': 'slow'}\n",
      "{'color': 'green', 'points': 5, 'speed': 'slow'}\n",
      "{'color': 'green', 'points': 5, 'speed': 'slow'}\n",
      "{'color': 'green', 'points': 5, 'speed': 'slow'}\n",
      "{'color': 'green', 'points': 5, 'speed': 'slow'}\n",
      "{'color': 'green', 'points': 5, 'speed': 'slow'}\n",
      "{'color': 'green', 'points': 5, 'speed': 'slow'}\n",
      "{'color': 'green', 'points': 5, 'speed': 'slow'}\n",
      "{'color': 'green', 'points': 5, 'speed': 'slow'}\n",
      "{'color': 'green', 'points': 5, 'speed': 'slow'}\n",
      "{'color': 'green', 'points': 5, 'speed': 'slow'}\n",
      "{'color': 'green', 'points': 5, 'speed': 'slow'}\n",
      "{'color': 'green', 'points': 5, 'speed': 'slow'}\n"
     ]
    }
   ],
   "source": [
    "for alien in aliens[0:3]:\n",
    "    if alien[\"color\"]==\"green\":\n",
    "        alien[\"color\"]=\"yellow\"\n",
    "        alien[\"speed\"]=\"medium\"\n",
    "        alien[\"points\"]=10\n",
    "    elif alien[\"color\"]==\"yellow\":\n",
    "        alien[\"color\"]=\"red\"\n",
    "        alien[\"speed\"]=\"fast\"\n",
    "        alien[\"points\"]=15\n",
    "        \n",
    "for alien in aliens[0:30]:\n",
    "    print(alien)"
   ]
  },
  {
   "cell_type": "code",
   "execution_count": 33,
   "metadata": {},
   "outputs": [],
   "source": [
    "pizza={\"crust\":\"thick\",\"toppings\":[\"mushrooms\",\"extra cheese\"],}"
   ]
  },
  {
   "cell_type": "code",
   "execution_count": 29,
   "metadata": {},
   "outputs": [
    {
     "name": "stdout",
     "output_type": "stream",
     "text": [
      "You Ordered a thick-crust pizza with following toppings:\n"
     ]
    }
   ],
   "source": [
    "print(\"You Ordered a \"+ pizza[\"crust\"] + \"-crust pizza\" + \" with following toppings:\")"
   ]
  },
  {
   "cell_type": "code",
   "execution_count": 34,
   "metadata": {},
   "outputs": [
    {
     "name": "stdout",
     "output_type": "stream",
     "text": [
      "\tmushrooms\n",
      "\textra cheese\n"
     ]
    }
   ],
   "source": [
    "for topping in pizza[\"toppings\"]:\n",
    "    print(\"\\t\" + topping)"
   ]
  },
  {
   "cell_type": "code",
   "execution_count": 36,
   "metadata": {},
   "outputs": [],
   "source": [
    "fav_language={\"jen\":[\"python\" , \"java\"],\n",
    "             \"sarah\":[\"c\"],\n",
    "             \"edward\":[\"swift\",\"react\" ],\n",
    "             \"phil\": [\"react\", \"react Native\"]}"
   ]
  },
  {
   "cell_type": "code",
   "execution_count": 37,
   "metadata": {},
   "outputs": [
    {
     "name": "stdout",
     "output_type": "stream",
     "text": [
      "\n",
      "Jen 's favourite language are:\n",
      "\tPython\n",
      "\tJava\n",
      "\n",
      "Sarah 's favourite language are:\n",
      "\tC\n",
      "\n",
      "Edward 's favourite language are:\n",
      "\tSwift\n",
      "\tReact\n",
      "\n",
      "Phil 's favourite language are:\n",
      "\tReact\n",
      "\tReact Native\n"
     ]
    }
   ],
   "source": [
    "for name,languages in fav_language.items():\n",
    "    print(\"\\n\"+ name.title() + \" 's favourite language are:\")\n",
    "    for language in languages:\n",
    "        print(\"\\t\"+language.title())"
   ]
  },
  {
   "cell_type": "markdown",
   "metadata": {},
   "source": [
    "# A Dictionary in a Dictionary"
   ]
  },
  {
   "cell_type": "code",
   "execution_count": 38,
   "metadata": {},
   "outputs": [
    {
     "ename": "SyntaxError",
     "evalue": "invalid syntax (<ipython-input-38-efb24ea22ed5>, line 9)",
     "output_type": "error",
     "traceback": [
      "\u001b[1;36m  File \u001b[1;32m\"<ipython-input-38-efb24ea22ed5>\"\u001b[1;36m, line \u001b[1;32m9\u001b[0m\n\u001b[1;33m    \"last\":\"curie\"\u001b[0m\n\u001b[1;37m          ^\u001b[0m\n\u001b[1;31mSyntaxError\u001b[0m\u001b[1;31m:\u001b[0m invalid syntax\n"
     ]
    }
   ],
   "source": [
    "user = {\n",
    "    \"aeinstein\":{\n",
    "        \"first\":\"albert\",\n",
    "        \"last\":\"einstein\",\n",
    "        \"location\":\"princton\",\n",
    "    },\n",
    "    \"mcurie\":{\n",
    "        \"first\":\"marie\"\n",
    "        \"last\":\"curie\"\n",
    "        \"location\":\"paris\",\n",
    "    },\n",
    "}"
   ]
  },
  {
   "cell_type": "code",
   "execution_count": 44,
   "metadata": {},
   "outputs": [],
   "source": [
    "users_details = {\n",
    "    \"aeinstein\":{\n",
    "        \"first\":\"albert\",\n",
    "        \"last\":\"einstein\",\n",
    "        \"location\":\"princton\",\n",
    "    },\n",
    "    \"mcurie\":{\n",
    "        \"first\":\"marie\",\n",
    "        \"last\":\"curie\",\n",
    "        \"location\":\"paris\",\n",
    "    },\n",
    "}"
   ]
  },
  {
   "cell_type": "code",
   "execution_count": 41,
   "metadata": {},
   "outputs": [],
   "source": [
    "users = {\n",
    " 'aeinstein': {\n",
    " 'first': 'albert',\n",
    " 'last': 'einstein',\n",
    " 'location': 'princeton',\n",
    " },\n",
    " 'mcurie': {\n",
    " 'first': 'marie',\n",
    " 'last': 'curie',\n",
    " 'location': 'paris',\n",
    " },\n",
    " }"
   ]
  },
  {
   "cell_type": "code",
   "execution_count": 43,
   "metadata": {},
   "outputs": [
    {
     "data": {
      "text/plain": [
       "{'aeinstein': {'first': 'albert', 'last': 'einstein', 'location': 'princton'},\n",
       " 'mcurie': {'first': 'marie', 'last': 'curie', 'location': 'paris'}}"
      ]
     },
     "execution_count": 43,
     "metadata": {},
     "output_type": "execute_result"
    }
   ],
   "source": [
    "user"
   ]
  },
  {
   "cell_type": "code",
   "execution_count": 47,
   "metadata": {},
   "outputs": [
    {
     "name": "stdout",
     "output_type": "stream",
     "text": [
      "\n",
      "username : aeinstein\n",
      "\t Full Name : Albert Einstein\n",
      "\t Location : Princton\n",
      "\n",
      "username : mcurie\n",
      "\t Full Name : Marie Curie\n",
      "\t Location : Paris\n"
     ]
    }
   ],
   "source": [
    "for username, user_info in users_details.items():\n",
    "    print(\"\\nusername : \" + username)\n",
    "    full_name=user_info[\"first\"] + \" \"+user_info[\"last\"]\n",
    "    location_details=user_info[\"location\"]\n",
    "    print (\"\\t Full Name : \" + full_name.title() )\n",
    "    print (\"\\t Location : \" + location_details.title() )"
   ]
  },
  {
   "cell_type": "code",
   "execution_count": 48,
   "metadata": {},
   "outputs": [],
   "source": [
    "dicofdic={\n",
    "    \"sayalni\":{\n",
    "        \"smit\":[\"web\",\"AI\",\"ccna\",\"ITE\"],\n",
    "        \"health\":[\"OPD\"],\n",
    "    \n",
    "},\n",
    "    \"university\":{\n",
    "        \"semester\":[\"1st\",\"2nd\",\"4th\",\"6th\"],\n",
    "        \"admin\":[\"fees\",\"exam\",\"admission\"],\n",
    "    }\n",
    "\n",
    "}"
   ]
  },
  {
   "cell_type": "code",
   "execution_count": 50,
   "metadata": {},
   "outputs": [],
   "source": [
    "for pk,pv in dicofdic.items():\n",
    "    if pk == \"unviersity\":\n",
    "        for uk,uv in pv.items():\n",
    "            if uk==\"admin\":\n",
    "                print(\"exam\" in uv)"
   ]
  },
  {
   "cell_type": "code",
   "execution_count": null,
   "metadata": {},
   "outputs": [],
   "source": [
    "fav_lang=[]"
   ]
  }
 ],
 "metadata": {
  "kernelspec": {
   "display_name": "Python 3",
   "language": "python",
   "name": "python3"
  },
  "language_info": {
   "codemirror_mode": {
    "name": "ipython",
    "version": 3
   },
   "file_extension": ".py",
   "mimetype": "text/x-python",
   "name": "python",
   "nbconvert_exporter": "python",
   "pygments_lexer": "ipython3",
   "version": "3.7.6"
  }
 },
 "nbformat": 4,
 "nbformat_minor": 4
}
