{
 "cells": [
  {
   "cell_type": "code",
   "execution_count": 8,
   "metadata": {},
   "outputs": [],
   "source": [
    "from selenium import webdriver\n",
    "import time"
   ]
  },
  {
   "cell_type": "code",
   "execution_count": 3,
   "metadata": {},
   "outputs": [],
   "source": [
    "driver=webdriver.Chrome(executable_path=\"chromedriver.exe\")"
   ]
  },
  {
   "cell_type": "code",
   "execution_count": 7,
   "metadata": {
    "scrolled": true
   },
   "outputs": [
    {
     "name": "stdout",
     "output_type": "stream",
     "text": [
      "Aashirvaad Chakki Atta 10 Kg\n",
      "Ashvill Chakki Atta 10 Kg\n",
      "Ashvill Chakki Atta 20 Kg\n",
      "East End Chakki Gold Atta 10 Kg\n",
      "Elephant Atta Medium 10 Kg\n",
      "Elephant Atta Medium 25 Kg\n",
      "Elephant Atta White 10 Kg\n",
      "Elephant Brown Atta 10 Kg\n",
      "Elite Chakki Atta 10 Kg\n",
      "Elite Chakki Atta 10 Kg\n",
      "Heera Chapatti Flour 25 Kg\n",
      "Heera Chapatti Medium 10 Kg\n",
      "Iwisa Flour 10 Kg\n",
      "Pillsbury Chakki Atta 10 Kg\n",
      "Swarna Chakki Fresh Atta 10 Kg\n",
      "Anil Atta 10Kg\n",
      "Anil Chakki Atta 10Kg\n",
      "[<selenium.webdriver.remote.webelement.WebElement (session=\"b2df7f18bcb72a47670b99990c60f0b5\", element=\"44296045-989a-4b6d-bc14-ff44ad04e8af\")>, <selenium.webdriver.remote.webelement.WebElement (session=\"b2df7f18bcb72a47670b99990c60f0b5\", element=\"20664c19-50d4-4c2b-870e-a688c1361a57\")>, <selenium.webdriver.remote.webelement.WebElement (session=\"b2df7f18bcb72a47670b99990c60f0b5\", element=\"729d119b-5697-4a32-a93b-6063729ba351\")>, <selenium.webdriver.remote.webelement.WebElement (session=\"b2df7f18bcb72a47670b99990c60f0b5\", element=\"ebef32fc-5503-4441-8465-31d0ba46a21d\")>, <selenium.webdriver.remote.webelement.WebElement (session=\"b2df7f18bcb72a47670b99990c60f0b5\", element=\"3f954845-bd41-4b8b-a2ca-8405cce02044\")>, <selenium.webdriver.remote.webelement.WebElement (session=\"b2df7f18bcb72a47670b99990c60f0b5\", element=\"adeaa6eb-03cf-46af-af2b-955563596325\")>, <selenium.webdriver.remote.webelement.WebElement (session=\"b2df7f18bcb72a47670b99990c60f0b5\", element=\"073e086e-d38a-4cdb-aa3d-19c166cdae88\")>, <selenium.webdriver.remote.webelement.WebElement (session=\"b2df7f18bcb72a47670b99990c60f0b5\", element=\"4a9d0251-a0eb-4921-9be5-9a02edda6578\")>, <selenium.webdriver.remote.webelement.WebElement (session=\"b2df7f18bcb72a47670b99990c60f0b5\", element=\"b0bd3a10-c6b5-4be9-b0e1-1b0c48dc8209\")>, <selenium.webdriver.remote.webelement.WebElement (session=\"b2df7f18bcb72a47670b99990c60f0b5\", element=\"d7887a51-1f27-4d81-a479-573950f96264\")>, <selenium.webdriver.remote.webelement.WebElement (session=\"b2df7f18bcb72a47670b99990c60f0b5\", element=\"f31b6422-8aab-4792-b8bc-8ea00274df50\")>, <selenium.webdriver.remote.webelement.WebElement (session=\"b2df7f18bcb72a47670b99990c60f0b5\", element=\"e1992508-f073-4cc7-8a6e-582d64f4ac4c\")>, <selenium.webdriver.remote.webelement.WebElement (session=\"b2df7f18bcb72a47670b99990c60f0b5\", element=\"f409cb1f-7a5e-4b80-b6d3-aa436228896f\")>, <selenium.webdriver.remote.webelement.WebElement (session=\"b2df7f18bcb72a47670b99990c60f0b5\", element=\"20e4ee1d-888a-4630-8f3b-ab44a544256e\")>, <selenium.webdriver.remote.webelement.WebElement (session=\"b2df7f18bcb72a47670b99990c60f0b5\", element=\"165e044a-bc50-407e-bc94-431a45c1884c\")>, <selenium.webdriver.remote.webelement.WebElement (session=\"b2df7f18bcb72a47670b99990c60f0b5\", element=\"a2e440c4-0230-481d-8e54-526ba8cac3e9\")>, <selenium.webdriver.remote.webelement.WebElement (session=\"b2df7f18bcb72a47670b99990c60f0b5\", element=\"c3a00171-486d-4a9b-ba7d-1adcc113202d\")>]\n"
     ]
    }
   ],
   "source": [
    "driver.get(\"https://www.eurasiaonline.ie/store/Above-5-Kg-c48470739\")\n",
    "#time.sleep(5)\n",
    "\n",
    "time.sleep(5)\n",
    "title=driver.find_element_by_xpath()\n",
    "\n",
    "\n",
    "categories = driver.find_elements_by_class_name(\"grid-product__title-inner\")\n",
    "for i in categories:\n",
    "    print(i.text)\n",
    "\n",
    "print(categories)\n"
   ]
  },
  {
   "cell_type": "code",
   "execution_count": 11,
   "metadata": {},
   "outputs": [
    {
     "name": "stdout",
     "output_type": "stream",
     "text": [
      "https://www.eurasiaonline.ie/store/Aashirvaad-Chakki-Atta-10-Kg-p188932771\n",
      "https://www.eurasiaonline.ie/store/Ashvill-Chakki-Atta-10-Kg-p188932835\n",
      "https://www.eurasiaonline.ie/store/Ashvill-Chakki-Atta-20-Kg-p188932836\n",
      "https://www.eurasiaonline.ie/store/East-End-Chakki-Gold-Atta-10-Kg-p188974154\n",
      "https://www.eurasiaonline.ie/store/Elephant-Atta-Medium-10-Kg-p188974268\n",
      "https://www.eurasiaonline.ie/store/Elephant-Atta-Medium-25-Kg-p188974269\n",
      "https://www.eurasiaonline.ie/store/Elephant-Atta-White-10-Kg-p188974270\n",
      "https://www.eurasiaonline.ie/store/Elephant-Brown-Atta-10-Kg-p188974271\n",
      "https://www.eurasiaonline.ie/store/Elite-Chakki-Atta-10-Kg-p188974273\n",
      "https://www.eurasiaonline.ie/store/Elite-Chakki-Atta-10-Kg-p188974274\n",
      "https://www.eurasiaonline.ie/store/Heera-Chapatti-Flour-25-Kg-p188974517\n",
      "https://www.eurasiaonline.ie/store/Heera-Chapatti-Medium-10-Kg-p188974518\n",
      "https://www.eurasiaonline.ie/store/Iwisa-Flour-10-Kg-p188974692\n",
      "https://www.eurasiaonline.ie/store/Pillsbury-Chakki-Atta-10-Kg-p188975075\n",
      "https://www.eurasiaonline.ie/store/Swarna-Chakki-Fresh-Atta-10-Kg-p188975372\n",
      "https://www.eurasiaonline.ie/store/Anil-Atta-10Kg-p283220946\n",
      "https://www.eurasiaonline.ie/store/Anil-Chakki-Atta-10Kg-p283225642\n"
     ]
    }
   ],
   "source": [
    "driver=webdriver.Chrome(executable_path=\"chromedriver.exe\")\n",
    "\n",
    "driver.get(\"https://www.eurasiaonline.ie/store/Above-5-Kg-c48470739\")\n",
    "time.sleep(5)\n",
    "next_page= driver.find_elements_by_class_name(\"grid-product__title\")\n",
    "for i in next_page:\n",
    "    print(i.get_attribute(\"href\"))\n"
   ]
  },
  {
   "cell_type": "code",
   "execution_count": null,
   "metadata": {},
   "outputs": [],
   "source": []
  }
 ],
 "metadata": {
  "kernelspec": {
   "display_name": "Python 3",
   "language": "python",
   "name": "python3"
  }
 },
 "nbformat": 4,
 "nbformat_minor": 4
}
